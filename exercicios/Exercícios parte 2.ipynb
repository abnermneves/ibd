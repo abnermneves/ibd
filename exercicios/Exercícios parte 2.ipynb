{
 "cells": [
  {
   "cell_type": "markdown",
   "metadata": {
    "colab_type": "text",
    "id": "view-in-github"
   },
   "source": [
    "<a href=\"https://colab.research.google.com/github/filipefbn/jupyter_intro_class_ibd/blob/master/notebooks/Exerc%C3%ADcios%20parte%202.ipynb\" target=\"_parent\"><img src=\"https://colab.research.google.com/assets/colab-badge.svg\" alt=\"Open In Colab\"/></a>"
   ]
  },
  {
   "cell_type": "code",
   "execution_count": 1,
   "metadata": {
    "colab": {},
    "colab_type": "code",
    "id": "T69J2DS2gNwz"
   },
   "outputs": [],
   "source": [
    "import io\n",
    "import sqlite3\n",
    "import pandas as pd"
   ]
  },
  {
   "cell_type": "markdown",
   "metadata": {
    "colab_type": "text",
    "id": "t1qoD0jyiXeZ"
   },
   "source": [
    "## Exercícios"
   ]
  },
  {
   "cell_type": "markdown",
   "metadata": {
    "colab_type": "text",
    "id": "qepRTEmHlnkP"
   },
   "source": [
    "Neste exercício, vamos trabalhar com dados de uma empresa fictícia de consultoria denominada **IBD**.\n",
    "\n",
    "**Considere o seguinte esquema relacional:**\n",
    "\n",
    "![alt text](https://raw.githubusercontent.com/filipefbn/jupyter_intro_class_ibd/master/data/schemaexercicio.png)\n",
    "\n",
    "Nenhum atributo admite valor nulo.\n",
    "\n",
    "Apenas as seguintes chaves primárias são numéricas: `Cliente.CodCli`, `Consultor.CPF`\n"
   ]
  },
  {
   "cell_type": "markdown",
   "metadata": {
    "colab_type": "text",
    "id": "kXFG4HtowjDG"
   },
   "source": [
    "### Download dos dados da empresa"
   ]
  },
  {
   "cell_type": "code",
   "execution_count": 2,
   "metadata": {
    "colab": {},
    "colab_type": "code",
    "id": "RYGTNTUPIWTs"
   },
   "outputs": [],
   "source": [
    "!wget --quiet -P /tmp/ https://raw.githubusercontent.com/filipefbn/jupyter_intro_class_ibd/master/data/exercicio.sql"
   ]
  },
  {
   "cell_type": "markdown",
   "metadata": {
    "colab_type": "text",
    "id": "x-oKUUU5w0Su"
   },
   "source": [
    "### Carregando os dados"
   ]
  },
  {
   "cell_type": "code",
   "execution_count": 3,
   "metadata": {
    "colab": {},
    "colab_type": "code",
    "id": "6WhLdsdBmNc7"
   },
   "outputs": [],
   "source": [
    "conn = sqlite3.connect('/tmp/consult.db')\n",
    "cursor = conn.cursor()"
   ]
  },
  {
   "cell_type": "code",
   "execution_count": 4,
   "metadata": {
    "colab": {
     "base_uri": "https://localhost:8080/",
     "height": 35
    },
    "colab_type": "code",
    "id": "XAGSnZw8FCeV",
    "outputId": "ce1a7557-0dbf-4d13-cac4-baf5a0cdbeaa"
   },
   "outputs": [
    {
     "data": {
      "text/plain": [
       "<sqlite3.Cursor at 0xac5489e0>"
      ]
     },
     "execution_count": 4,
     "metadata": {},
     "output_type": "execute_result"
    }
   ],
   "source": [
    "f = io.open('/tmp/exercicio.sql', 'r', encoding='utf-8')\n",
    "sql = f.read()\n",
    "cursor.executescript(sql)"
   ]
  },
  {
   "cell_type": "code",
   "execution_count": 5,
   "metadata": {},
   "outputs": [],
   "source": [
    "cliente = pd.read_sql_query(\"SELECT * FROM Cliente\", conn)\n",
    "projeto = pd.read_sql_query(\"SELECT * FROM Projeto\", conn)\n",
    "consultor = pd.read_sql_query(\"SELECT * FROM Consultor\", conn)\n",
    "equipe = pd.read_sql_query(\"SELECT * FROM Equipe\", conn)\n",
    "viagem = pd.read_sql_query(\"SELECT * FROM Viagem\", conn)\n",
    "local = pd.read_sql_query(\"SELECT * FROM Local\", conn)"
   ]
  },
  {
   "cell_type": "markdown",
   "metadata": {
    "colab_type": "text",
    "id": "oVFJ2N2pwjDP"
   },
   "source": [
    "## Consultas"
   ]
  },
  {
   "cell_type": "markdown",
   "metadata": {
    "colab_type": "text",
    "id": "pAsrM_GlXU5e"
   },
   "source": [
    "### 1. Que consultores (CPF, nome e estado de nascimento) não nasceram em São Paulo (SP)?\n"
   ]
  },
  {
   "cell_type": "code",
   "execution_count": 130,
   "metadata": {
    "colab": {},
    "colab_type": "code",
    "id": "lAA15P8-cbwx"
   },
   "outputs": [
    {
     "data": {
      "text/html": [
       "<div>\n",
       "<style scoped>\n",
       "    .dataframe tbody tr th:only-of-type {\n",
       "        vertical-align: middle;\n",
       "    }\n",
       "\n",
       "    .dataframe tbody tr th {\n",
       "        vertical-align: top;\n",
       "    }\n",
       "\n",
       "    .dataframe thead th {\n",
       "        text-align: right;\n",
       "    }\n",
       "</style>\n",
       "<table border=\"1\" class=\"dataframe\">\n",
       "  <thead>\n",
       "    <tr style=\"text-align: right;\">\n",
       "      <th></th>\n",
       "      <th>CPF</th>\n",
       "      <th>NOMECON</th>\n",
       "      <th>UFNASCCON</th>\n",
       "    </tr>\n",
       "  </thead>\n",
       "  <tbody>\n",
       "    <tr>\n",
       "      <th>0</th>\n",
       "      <td>13414263351</td>\n",
       "      <td>Samuel Araujo Azevedo</td>\n",
       "      <td>PR</td>\n",
       "    </tr>\n",
       "    <tr>\n",
       "      <th>1</th>\n",
       "      <td>71960563530</td>\n",
       "      <td>Diogo Cavalcanti Rocha</td>\n",
       "      <td>PB</td>\n",
       "    </tr>\n",
       "    <tr>\n",
       "      <th>2</th>\n",
       "      <td>3074973994</td>\n",
       "      <td>Julieta Maciel Sousa</td>\n",
       "      <td>RJ</td>\n",
       "    </tr>\n",
       "    <tr>\n",
       "      <th>3</th>\n",
       "      <td>29762035631</td>\n",
       "      <td>Caio Dias Ribeiro</td>\n",
       "      <td>MG</td>\n",
       "    </tr>\n",
       "    <tr>\n",
       "      <th>4</th>\n",
       "      <td>17787063122</td>\n",
       "      <td>Larissa Fernandes Araujo</td>\n",
       "      <td>MG</td>\n",
       "    </tr>\n",
       "    <tr>\n",
       "      <th>5</th>\n",
       "      <td>31266012516</td>\n",
       "      <td>Leonor Goncalves Rocha</td>\n",
       "      <td>MG</td>\n",
       "    </tr>\n",
       "    <tr>\n",
       "      <th>6</th>\n",
       "      <td>85726311353</td>\n",
       "      <td>Brenda Oliveira Goncalves</td>\n",
       "      <td>TO</td>\n",
       "    </tr>\n",
       "  </tbody>\n",
       "</table>\n",
       "</div>"
      ],
      "text/plain": [
       "           CPF                    NOMECON UFNASCCON\n",
       "0  13414263351      Samuel Araujo Azevedo        PR\n",
       "1  71960563530     Diogo Cavalcanti Rocha        PB\n",
       "2   3074973994       Julieta Maciel Sousa        RJ\n",
       "3  29762035631          Caio Dias Ribeiro        MG\n",
       "4  17787063122   Larissa Fernandes Araujo        MG\n",
       "5  31266012516     Leonor Goncalves Rocha        MG\n",
       "6  85726311353  Brenda Oliveira Goncalves        TO"
      ]
     },
     "execution_count": 130,
     "metadata": {},
     "output_type": "execute_result"
    }
   ],
   "source": [
    "df = pd.read_sql_query(\"SELECT C.CPF, C.NomeCon, C.UFNascCon\"\n",
    "                       + \" FROM Consultor AS C\"\n",
    "                       + \" WHERE C.UFNASCCON <> 'SP'\", conn)\n",
    "df"
   ]
  },
  {
   "cell_type": "markdown",
   "metadata": {
    "colab_type": "text",
    "id": "9Ma0HxOmwjDV"
   },
   "source": [
    "### 2. Que projetos (sigla e nome) não são do cliente \"Facebook\"?\n"
   ]
  },
  {
   "cell_type": "code",
   "execution_count": 7,
   "metadata": {
    "colab": {},
    "colab_type": "code",
    "id": "rdWKsj5iMkQO"
   },
   "outputs": [
    {
     "data": {
      "text/html": [
       "<div>\n",
       "<style scoped>\n",
       "    .dataframe tbody tr th:only-of-type {\n",
       "        vertical-align: middle;\n",
       "    }\n",
       "\n",
       "    .dataframe tbody tr th {\n",
       "        vertical-align: top;\n",
       "    }\n",
       "\n",
       "    .dataframe thead th {\n",
       "        text-align: right;\n",
       "    }\n",
       "</style>\n",
       "<table border=\"1\" class=\"dataframe\">\n",
       "  <thead>\n",
       "    <tr style=\"text-align: right;\">\n",
       "      <th></th>\n",
       "      <th>SIGLA</th>\n",
       "      <th>NOMEPRO</th>\n",
       "    </tr>\n",
       "  </thead>\n",
       "  <tbody>\n",
       "    <tr>\n",
       "      <th>0</th>\n",
       "      <td>NMT</td>\n",
       "      <td>Neural Machine Translation (Chinês para Portug...</td>\n",
       "    </tr>\n",
       "    <tr>\n",
       "      <th>1</th>\n",
       "      <td>Search</td>\n",
       "      <td>Otimização Sistema de Busca</td>\n",
       "    </tr>\n",
       "    <tr>\n",
       "      <th>2</th>\n",
       "      <td>Spam</td>\n",
       "      <td>Detecção de Spam (Gmail)</td>\n",
       "    </tr>\n",
       "    <tr>\n",
       "      <th>3</th>\n",
       "      <td>Fake</td>\n",
       "      <td>Detecção de Fake News</td>\n",
       "    </tr>\n",
       "    <tr>\n",
       "      <th>4</th>\n",
       "      <td>SDC</td>\n",
       "      <td>Self Driving Car</td>\n",
       "    </tr>\n",
       "    <tr>\n",
       "      <th>5</th>\n",
       "      <td>Pay</td>\n",
       "      <td>Sistema de Pagamento</td>\n",
       "    </tr>\n",
       "    <tr>\n",
       "      <th>6</th>\n",
       "      <td>RecSys</td>\n",
       "      <td>Sistema de Recomendação</td>\n",
       "    </tr>\n",
       "    <tr>\n",
       "      <th>7</th>\n",
       "      <td>Fraud</td>\n",
       "      <td>Detecção de Fraude</td>\n",
       "    </tr>\n",
       "  </tbody>\n",
       "</table>\n",
       "</div>"
      ],
      "text/plain": [
       "    SIGLA                                            NOMEPRO\n",
       "0     NMT  Neural Machine Translation (Chinês para Portug...\n",
       "1  Search                        Otimização Sistema de Busca\n",
       "2    Spam                           Detecção de Spam (Gmail)\n",
       "3    Fake                              Detecção de Fake News\n",
       "4     SDC                                   Self Driving Car\n",
       "5     Pay                               Sistema de Pagamento\n",
       "6  RecSys                            Sistema de Recomendação\n",
       "7   Fraud                                 Detecção de Fraude"
      ]
     },
     "execution_count": 7,
     "metadata": {},
     "output_type": "execute_result"
    }
   ],
   "source": [
    "df = pd.read_sql_query(\"SELECT P.Sigla, P.NomePro\"\n",
    "                       + \" FROM Projeto AS P\"\n",
    "                       + \" WHERE P.CodCli <> (SELECT C.CodCli\"\n",
    "                                             + \" FROM Cliente AS C\"\n",
    "                                             + \" WHERE C.NomeCli = 'Facebook')\"\n",
    "                       , conn)\n",
    "df"
   ]
  },
  {
   "cell_type": "markdown",
   "metadata": {
    "colab_type": "text",
    "id": "3VIRdovqwjDY"
   },
   "source": [
    "### 3. Para que UFs viajaram os consultores que participam do projeto de sigla \"RecSys\"?"
   ]
  },
  {
   "cell_type": "code",
   "execution_count": 8,
   "metadata": {},
   "outputs": [
    {
     "data": {
      "text/html": [
       "<div>\n",
       "<style scoped>\n",
       "    .dataframe tbody tr th:only-of-type {\n",
       "        vertical-align: middle;\n",
       "    }\n",
       "\n",
       "    .dataframe tbody tr th {\n",
       "        vertical-align: top;\n",
       "    }\n",
       "\n",
       "    .dataframe thead th {\n",
       "        text-align: right;\n",
       "    }\n",
       "</style>\n",
       "<table border=\"1\" class=\"dataframe\">\n",
       "  <thead>\n",
       "    <tr style=\"text-align: right;\">\n",
       "      <th></th>\n",
       "      <th>UFLOC</th>\n",
       "    </tr>\n",
       "  </thead>\n",
       "  <tbody>\n",
       "    <tr>\n",
       "      <th>0</th>\n",
       "      <td>MG</td>\n",
       "    </tr>\n",
       "    <tr>\n",
       "      <th>1</th>\n",
       "      <td>SP</td>\n",
       "    </tr>\n",
       "  </tbody>\n",
       "</table>\n",
       "</div>"
      ],
      "text/plain": [
       "  UFLOC\n",
       "0    MG\n",
       "1    SP"
      ]
     },
     "execution_count": 8,
     "metadata": {},
     "output_type": "execute_result"
    }
   ],
   "source": [
    "df = pd.read_sql_query(\"SELECT UFLoc\"\n",
    "                      + \" FROM Local L\"\n",
    "                      + \" INNER JOIN Viagem V\"\n",
    "                      + \" ON L.NomeLoc = V.Destino\"\n",
    "                      + \" WHERE V.Sigla = 'RecSys'\"\n",
    "                      + \" GROUP BY UFLoc\"\n",
    "                      , conn)\n",
    "df"
   ]
  },
  {
   "cell_type": "markdown",
   "metadata": {
    "colab_type": "text",
    "id": "AwguIkD0wjDQ"
   },
   "source": [
    "### 4. Que projetos (sigla e nome) não têm equipe?"
   ]
  },
  {
   "cell_type": "code",
   "execution_count": 9,
   "metadata": {
    "colab": {},
    "colab_type": "code",
    "id": "lodPlGRM2iu4"
   },
   "outputs": [
    {
     "data": {
      "text/html": [
       "<div>\n",
       "<style scoped>\n",
       "    .dataframe tbody tr th:only-of-type {\n",
       "        vertical-align: middle;\n",
       "    }\n",
       "\n",
       "    .dataframe tbody tr th {\n",
       "        vertical-align: top;\n",
       "    }\n",
       "\n",
       "    .dataframe thead th {\n",
       "        text-align: right;\n",
       "    }\n",
       "</style>\n",
       "<table border=\"1\" class=\"dataframe\">\n",
       "  <thead>\n",
       "    <tr style=\"text-align: right;\">\n",
       "      <th></th>\n",
       "      <th>SIGLA</th>\n",
       "      <th>NOMEPRO</th>\n",
       "    </tr>\n",
       "  </thead>\n",
       "  <tbody>\n",
       "    <tr>\n",
       "      <th>0</th>\n",
       "      <td>Search</td>\n",
       "      <td>Otimização Sistema de Busca</td>\n",
       "    </tr>\n",
       "    <tr>\n",
       "      <th>1</th>\n",
       "      <td>Fake</td>\n",
       "      <td>Detecção de Fake News</td>\n",
       "    </tr>\n",
       "    <tr>\n",
       "      <th>2</th>\n",
       "      <td>SDC</td>\n",
       "      <td>Self Driving Car</td>\n",
       "    </tr>\n",
       "  </tbody>\n",
       "</table>\n",
       "</div>"
      ],
      "text/plain": [
       "    SIGLA                      NOMEPRO\n",
       "0  Search  Otimização Sistema de Busca\n",
       "1    Fake        Detecção de Fake News\n",
       "2     SDC             Self Driving Car"
      ]
     },
     "execution_count": 9,
     "metadata": {},
     "output_type": "execute_result"
    }
   ],
   "source": [
    "df = pd.read_sql_query(\"SELECT P.Sigla, P.NomePro\"\n",
    "                       + \" FROM Projeto P\"\n",
    "                       + \" LEFT JOIN Equipe E\"\n",
    "                       + \" ON P.Sigla = E.Sigla\"\n",
    "                       + \" WHERE E.Sigla is null\"\n",
    "                       , conn)\n",
    "df"
   ]
  },
  {
   "cell_type": "markdown",
   "metadata": {
    "colab_type": "text",
    "id": "_OS_GmxFwjDT"
   },
   "source": [
    "### 5. Que projetos (sigla e nome) não têm em sua equipe consultores nascidos antes de 1987?"
   ]
  },
  {
   "cell_type": "code",
   "execution_count": 128,
   "metadata": {},
   "outputs": [
    {
     "data": {
      "text/html": [
       "<div>\n",
       "<style scoped>\n",
       "    .dataframe tbody tr th:only-of-type {\n",
       "        vertical-align: middle;\n",
       "    }\n",
       "\n",
       "    .dataframe tbody tr th {\n",
       "        vertical-align: top;\n",
       "    }\n",
       "\n",
       "    .dataframe thead th {\n",
       "        text-align: right;\n",
       "    }\n",
       "</style>\n",
       "<table border=\"1\" class=\"dataframe\">\n",
       "  <thead>\n",
       "    <tr style=\"text-align: right;\">\n",
       "      <th></th>\n",
       "      <th>SIGLA</th>\n",
       "      <th>NOMEPRO</th>\n",
       "    </tr>\n",
       "  </thead>\n",
       "  <tbody>\n",
       "    <tr>\n",
       "      <th>0</th>\n",
       "      <td>Fake</td>\n",
       "      <td>Detecção de Fake News</td>\n",
       "    </tr>\n",
       "    <tr>\n",
       "      <th>1</th>\n",
       "      <td>Fraud</td>\n",
       "      <td>Detecção de Fraude</td>\n",
       "    </tr>\n",
       "    <tr>\n",
       "      <th>2</th>\n",
       "      <td>NMT</td>\n",
       "      <td>Neural Machine Translation (Chinês para Portug...</td>\n",
       "    </tr>\n",
       "    <tr>\n",
       "      <th>3</th>\n",
       "      <td>SDC</td>\n",
       "      <td>Self Driving Car</td>\n",
       "    </tr>\n",
       "    <tr>\n",
       "      <th>4</th>\n",
       "      <td>Search</td>\n",
       "      <td>Otimização Sistema de Busca</td>\n",
       "    </tr>\n",
       "    <tr>\n",
       "      <th>5</th>\n",
       "      <td>Spam</td>\n",
       "      <td>Detecção de Spam (Gmail)</td>\n",
       "    </tr>\n",
       "    <tr>\n",
       "      <th>6</th>\n",
       "      <td>VR</td>\n",
       "      <td>Hardware para Oculus VR</td>\n",
       "    </tr>\n",
       "  </tbody>\n",
       "</table>\n",
       "</div>"
      ],
      "text/plain": [
       "    SIGLA                                            NOMEPRO\n",
       "0    Fake                              Detecção de Fake News\n",
       "1   Fraud                                 Detecção de Fraude\n",
       "2     NMT  Neural Machine Translation (Chinês para Portug...\n",
       "3     SDC                                   Self Driving Car\n",
       "4  Search                        Otimização Sistema de Busca\n",
       "5    Spam                           Detecção de Spam (Gmail)\n",
       "6      VR                            Hardware para Oculus VR"
      ]
     },
     "execution_count": 128,
     "metadata": {},
     "output_type": "execute_result"
    }
   ],
   "source": [
    "df = pd.read_sql_query(\"SELECT P.Sigla, P.NomePro\"\n",
    "                       + \" FROM Projeto P\"\n",
    "                       + \" EXCEPT\"\n",
    "                       + \" SELECT Pj.Sigla, Pj.NomePro\"\n",
    "                       + \" FROM Projeto Pj\"\n",
    "                       + \" INNER NATURAL JOIN Equipe\"\n",
    "                       + \" INNER NATURAL JOIN Consultor C\"\n",
    "                       + \" WHERE C.DataNascCon < '1987'\"\n",
    "                      \n",
    "                       , conn)\n",
    "df"
   ]
  },
  {
   "cell_type": "markdown",
   "metadata": {
    "colab_type": "text",
    "id": "IH6jWfwKwjDd"
   },
   "source": [
    "### 6. Que consultores (CPF e nome) viajaram por seu estado natal (origem ou destino)?\n"
   ]
  },
  {
   "cell_type": "code",
   "execution_count": 48,
   "metadata": {
    "colab": {},
    "colab_type": "code",
    "id": "gemDJY3tmSKr",
    "scrolled": false
   },
   "outputs": [
    {
     "data": {
      "text/html": [
       "<div>\n",
       "<style scoped>\n",
       "    .dataframe tbody tr th:only-of-type {\n",
       "        vertical-align: middle;\n",
       "    }\n",
       "\n",
       "    .dataframe tbody tr th {\n",
       "        vertical-align: top;\n",
       "    }\n",
       "\n",
       "    .dataframe thead th {\n",
       "        text-align: right;\n",
       "    }\n",
       "</style>\n",
       "<table border=\"1\" class=\"dataframe\">\n",
       "  <thead>\n",
       "    <tr style=\"text-align: right;\">\n",
       "      <th></th>\n",
       "      <th>CPF</th>\n",
       "      <th>NomeCon</th>\n",
       "    </tr>\n",
       "  </thead>\n",
       "  <tbody>\n",
       "    <tr>\n",
       "      <th>0</th>\n",
       "      <td>44434353608</td>\n",
       "      <td>Melissa Carvalho Cunha</td>\n",
       "    </tr>\n",
       "    <tr>\n",
       "      <th>1</th>\n",
       "      <td>29762035631</td>\n",
       "      <td>Caio Dias Ribeiro</td>\n",
       "    </tr>\n",
       "    <tr>\n",
       "      <th>2</th>\n",
       "      <td>34646193892</td>\n",
       "      <td>Rodrigo Araujo Cardoso</td>\n",
       "    </tr>\n",
       "    <tr>\n",
       "      <th>3</th>\n",
       "      <td>17787063122</td>\n",
       "      <td>Larissa Fernandes Araujo</td>\n",
       "    </tr>\n",
       "    <tr>\n",
       "      <th>4</th>\n",
       "      <td>62465487841</td>\n",
       "      <td>Lucas Fernandes Costa</td>\n",
       "    </tr>\n",
       "  </tbody>\n",
       "</table>\n",
       "</div>"
      ],
      "text/plain": [
       "           CPF                   NomeCon\n",
       "0  44434353608    Melissa Carvalho Cunha\n",
       "1  29762035631         Caio Dias Ribeiro\n",
       "2  34646193892    Rodrigo Araujo Cardoso\n",
       "3  17787063122  Larissa Fernandes Araujo\n",
       "4  62465487841     Lucas Fernandes Costa"
      ]
     },
     "execution_count": 48,
     "metadata": {},
     "output_type": "execute_result"
    }
   ],
   "source": [
    "df = pd.read_sql_query(\"SELECT DISTINCT CPF, NomeCon\"\n",
    "                       + \" FROM Local AS L INNER JOIN (Viagem AS V INNER NATURAL JOIN Consultor AS C)\"\n",
    "                       + \" ON L.NomeLoc = V.Origem OR L.NomeLoc = V.Destino\"\n",
    "                       + \" WHERE L.UFLoc = C.UFNascCon\"\n",
    "                       , conn)\n",
    "df"
   ]
  },
  {
   "cell_type": "markdown",
   "metadata": {
    "colab_type": "text",
    "id": "8TIDTEtkXR_X"
   },
   "source": [
    "### 7. Para que locais não houve nenhuma viagem?"
   ]
  },
  {
   "cell_type": "code",
   "execution_count": 62,
   "metadata": {
    "colab": {},
    "colab_type": "code",
    "id": "gcNKykMPXTIP"
   },
   "outputs": [
    {
     "data": {
      "text/html": [
       "<div>\n",
       "<style scoped>\n",
       "    .dataframe tbody tr th:only-of-type {\n",
       "        vertical-align: middle;\n",
       "    }\n",
       "\n",
       "    .dataframe tbody tr th {\n",
       "        vertical-align: top;\n",
       "    }\n",
       "\n",
       "    .dataframe thead th {\n",
       "        text-align: right;\n",
       "    }\n",
       "</style>\n",
       "<table border=\"1\" class=\"dataframe\">\n",
       "  <thead>\n",
       "    <tr style=\"text-align: right;\">\n",
       "      <th></th>\n",
       "      <th>NOMELOC</th>\n",
       "    </tr>\n",
       "  </thead>\n",
       "  <tbody>\n",
       "    <tr>\n",
       "      <th>0</th>\n",
       "      <td>Amazon</td>\n",
       "    </tr>\n",
       "    <tr>\n",
       "      <th>1</th>\n",
       "      <td>IBD-PR</td>\n",
       "    </tr>\n",
       "    <tr>\n",
       "      <th>2</th>\n",
       "      <td>Netflix</td>\n",
       "    </tr>\n",
       "    <tr>\n",
       "      <th>3</th>\n",
       "      <td>OpenAI</td>\n",
       "    </tr>\n",
       "    <tr>\n",
       "      <th>4</th>\n",
       "      <td>Spotify</td>\n",
       "    </tr>\n",
       "  </tbody>\n",
       "</table>\n",
       "</div>"
      ],
      "text/plain": [
       "   NOMELOC\n",
       "0   Amazon\n",
       "1   IBD-PR\n",
       "2  Netflix\n",
       "3   OpenAI\n",
       "4  Spotify"
      ]
     },
     "execution_count": 62,
     "metadata": {},
     "output_type": "execute_result"
    }
   ],
   "source": [
    "df = pd.read_sql_query(\"SELECT L.NomeLoc\"\n",
    "                       + \" FROM Local L\"\n",
    "                       + \" LEFT JOIN Viagem V\"\n",
    "                       + \" ON L.NomeLoc = V.Destino\"\n",
    "                       + \" WHERE V.Destino is null\"\n",
    "                       , conn)\n",
    "df"
   ]
  },
  {
   "cell_type": "markdown",
   "metadata": {
    "colab_type": "text",
    "id": "oZwCdnuRXVGJ"
   },
   "source": [
    "### 8. Em que projetos (sigla e nome) foram realizadas viagens para a California (CA) desde o início de 2019?\n",
    "OBS: Como o banco foi populado usando a função [`datetime`](https://www.sqlite.org/lang_datefunc.html) do SQLite para as datas, podemos usar DataViagem > '2019' com o `WHERE` (ver link para mais informações)."
   ]
  },
  {
   "cell_type": "code",
   "execution_count": 86,
   "metadata": {
    "colab": {},
    "colab_type": "code",
    "id": "qtcubREji-R1"
   },
   "outputs": [
    {
     "data": {
      "text/html": [
       "<div>\n",
       "<style scoped>\n",
       "    .dataframe tbody tr th:only-of-type {\n",
       "        vertical-align: middle;\n",
       "    }\n",
       "\n",
       "    .dataframe tbody tr th {\n",
       "        vertical-align: top;\n",
       "    }\n",
       "\n",
       "    .dataframe thead th {\n",
       "        text-align: right;\n",
       "    }\n",
       "</style>\n",
       "<table border=\"1\" class=\"dataframe\">\n",
       "  <thead>\n",
       "    <tr style=\"text-align: right;\">\n",
       "      <th></th>\n",
       "      <th>P.Sigla</th>\n",
       "      <th>P.NomePro</th>\n",
       "    </tr>\n",
       "  </thead>\n",
       "  <tbody>\n",
       "    <tr>\n",
       "      <th>0</th>\n",
       "      <td>WhatsApp</td>\n",
       "      <td>Cliente desktop para o WhatsApp</td>\n",
       "    </tr>\n",
       "    <tr>\n",
       "      <th>1</th>\n",
       "      <td>VR</td>\n",
       "      <td>Hardware para Oculus VR</td>\n",
       "    </tr>\n",
       "  </tbody>\n",
       "</table>\n",
       "</div>"
      ],
      "text/plain": [
       "    P.Sigla                        P.NomePro\n",
       "0  WhatsApp  Cliente desktop para o WhatsApp\n",
       "1        VR          Hardware para Oculus VR"
      ]
     },
     "execution_count": 86,
     "metadata": {},
     "output_type": "execute_result"
    }
   ],
   "source": [
    "df = pd.read_sql_query(\"SELECT DISTINCT P.Sigla, P.NomePro FROM Projeto P\" \n",
    "                       + \" INNER NATURAL JOIN (Viagem V\"\n",
    "                       + \" INNER JOIN Local L\"\n",
    "                       + \" ON V.Destino = L.NomeLoc)\"\n",
    "                       + \" WHERE L.UFLoc = 'CA'\"\n",
    "                       + \" AND V.DataViagem > '2019'\"\n",
    "                       , conn)\n",
    "df"
   ]
  },
  {
   "cell_type": "markdown",
   "metadata": {
    "colab_type": "text",
    "id": "VeEn3GnMXV5v"
   },
   "source": [
    "### 9. Que consultores (CPF e nome) viajaram por um projeto de cuja equipe não fazem parte?\n",
    "OBS: Apesar de não intuitivo, isso é possível, pois no nosso schema temos que Viagem.CPF 🡪 Consultor.CPF e Viagem.Sigla 🡪 Projeto.Sigla."
   ]
  },
  {
   "cell_type": "code",
   "execution_count": 152,
   "metadata": {
    "colab": {},
    "colab_type": "code",
    "id": "hT5bTU4blnc5"
   },
   "outputs": [
    {
     "data": {
      "text/html": [
       "<div>\n",
       "<style scoped>\n",
       "    .dataframe tbody tr th:only-of-type {\n",
       "        vertical-align: middle;\n",
       "    }\n",
       "\n",
       "    .dataframe tbody tr th {\n",
       "        vertical-align: top;\n",
       "    }\n",
       "\n",
       "    .dataframe thead th {\n",
       "        text-align: right;\n",
       "    }\n",
       "</style>\n",
       "<table border=\"1\" class=\"dataframe\">\n",
       "  <thead>\n",
       "    <tr style=\"text-align: right;\">\n",
       "      <th></th>\n",
       "      <th>CPF</th>\n",
       "      <th>NomeCon</th>\n",
       "    </tr>\n",
       "  </thead>\n",
       "  <tbody>\n",
       "    <tr>\n",
       "      <th>0</th>\n",
       "      <td>34646193892</td>\n",
       "      <td>Rodrigo Araujo Cardoso</td>\n",
       "    </tr>\n",
       "    <tr>\n",
       "      <th>1</th>\n",
       "      <td>44434353608</td>\n",
       "      <td>Melissa Carvalho Cunha</td>\n",
       "    </tr>\n",
       "  </tbody>\n",
       "</table>\n",
       "</div>"
      ],
      "text/plain": [
       "           CPF                 NomeCon\n",
       "0  34646193892  Rodrigo Araujo Cardoso\n",
       "1  44434353608  Melissa Carvalho Cunha"
      ]
     },
     "execution_count": 152,
     "metadata": {},
     "output_type": "execute_result"
    }
   ],
   "source": [
    "df = pd.read_sql_query(\"SELECT R.CPF, R.NomeCon\"\n",
    "                       + \" FROM (SELECT V.CPF, C.NomeCon, V.Sigla\"\n",
    "                       + \" FROM Viagem V\"\n",
    "                       + \" INNER NATURAL JOIN Consultor C\"\n",
    "                       + \" EXCEPT\"\n",
    "                       + \" SELECT CPF, NomeCon, Sigla\"\n",
    "                       + \" FROM Consultor\"\n",
    "                       + \" INNER NATURAL JOIN Equipe) AS R\"\n",
    "                       \n",
    "                      , conn)\n",
    "df"
   ]
  },
  {
   "cell_type": "code",
   "execution_count": 131,
   "metadata": {},
   "outputs": [
    {
     "data": {
      "text/html": [
       "<div>\n",
       "<style scoped>\n",
       "    .dataframe tbody tr th:only-of-type {\n",
       "        vertical-align: middle;\n",
       "    }\n",
       "\n",
       "    .dataframe tbody tr th {\n",
       "        vertical-align: top;\n",
       "    }\n",
       "\n",
       "    .dataframe thead th {\n",
       "        text-align: right;\n",
       "    }\n",
       "</style>\n",
       "<table border=\"1\" class=\"dataframe\">\n",
       "  <thead>\n",
       "    <tr style=\"text-align: right;\">\n",
       "      <th></th>\n",
       "      <th>SIGLA</th>\n",
       "      <th>CPF</th>\n",
       "      <th>DATAVIAGEM</th>\n",
       "      <th>ORIGEM</th>\n",
       "      <th>DESTINO</th>\n",
       "    </tr>\n",
       "  </thead>\n",
       "  <tbody>\n",
       "    <tr>\n",
       "      <th>0</th>\n",
       "      <td>NMT</td>\n",
       "      <td>44434353608</td>\n",
       "      <td>2019-08-11 22:02:41</td>\n",
       "      <td>IBD-SP</td>\n",
       "      <td>Baidu</td>\n",
       "    </tr>\n",
       "    <tr>\n",
       "      <th>1</th>\n",
       "      <td>Spam</td>\n",
       "      <td>71960563530</td>\n",
       "      <td>2019-08-14 22:02:41</td>\n",
       "      <td>Google</td>\n",
       "      <td>IBD-MG</td>\n",
       "    </tr>\n",
       "    <tr>\n",
       "      <th>2</th>\n",
       "      <td>RecSys</td>\n",
       "      <td>29762035631</td>\n",
       "      <td>2019-08-18 22:02:41</td>\n",
       "      <td>IBD-MG</td>\n",
       "      <td>iFood</td>\n",
       "    </tr>\n",
       "    <tr>\n",
       "      <th>3</th>\n",
       "      <td>VR</td>\n",
       "      <td>34646193892</td>\n",
       "      <td>2019-08-22 22:02:41</td>\n",
       "      <td>OpenAI</td>\n",
       "      <td>IBD-SP</td>\n",
       "    </tr>\n",
       "    <tr>\n",
       "      <th>4</th>\n",
       "      <td>Pay</td>\n",
       "      <td>17787063122</td>\n",
       "      <td>2019-08-22 22:02:41</td>\n",
       "      <td>iFood</td>\n",
       "      <td>IBD-SP</td>\n",
       "    </tr>\n",
       "    <tr>\n",
       "      <th>5</th>\n",
       "      <td>WhatsApp</td>\n",
       "      <td>31266012516</td>\n",
       "      <td>2019-08-24 22:02:41</td>\n",
       "      <td>IBD-SP</td>\n",
       "      <td>Facebook</td>\n",
       "    </tr>\n",
       "    <tr>\n",
       "      <th>6</th>\n",
       "      <td>NMT</td>\n",
       "      <td>44434353608</td>\n",
       "      <td>2019-08-29 22:02:41</td>\n",
       "      <td>Baidu</td>\n",
       "      <td>IBD-SP</td>\n",
       "    </tr>\n",
       "    <tr>\n",
       "      <th>7</th>\n",
       "      <td>NMT</td>\n",
       "      <td>34646193892</td>\n",
       "      <td>2019-08-29 22:02:41</td>\n",
       "      <td>Baidu</td>\n",
       "      <td>IBD-SP</td>\n",
       "    </tr>\n",
       "    <tr>\n",
       "      <th>8</th>\n",
       "      <td>Fraud</td>\n",
       "      <td>71960563530</td>\n",
       "      <td>2019-08-31 22:02:41</td>\n",
       "      <td>IBD-SP</td>\n",
       "      <td>Nubank</td>\n",
       "    </tr>\n",
       "    <tr>\n",
       "      <th>9</th>\n",
       "      <td>Spam</td>\n",
       "      <td>44434353608</td>\n",
       "      <td>2019-09-05 22:02:41</td>\n",
       "      <td>IBD-PR</td>\n",
       "      <td>Google</td>\n",
       "    </tr>\n",
       "    <tr>\n",
       "      <th>10</th>\n",
       "      <td>Pay</td>\n",
       "      <td>17787063122</td>\n",
       "      <td>2019-09-05 22:02:42</td>\n",
       "      <td>iFood</td>\n",
       "      <td>IBD-MG</td>\n",
       "    </tr>\n",
       "    <tr>\n",
       "      <th>11</th>\n",
       "      <td>RecSys</td>\n",
       "      <td>3074973994</td>\n",
       "      <td>2019-09-10 22:02:42</td>\n",
       "      <td>iFood</td>\n",
       "      <td>IBD-MG</td>\n",
       "    </tr>\n",
       "    <tr>\n",
       "      <th>12</th>\n",
       "      <td>RecSys</td>\n",
       "      <td>62465487841</td>\n",
       "      <td>2019-09-11 22:02:42</td>\n",
       "      <td>IBD-MG</td>\n",
       "      <td>iFood</td>\n",
       "    </tr>\n",
       "    <tr>\n",
       "      <th>13</th>\n",
       "      <td>WhatsApp</td>\n",
       "      <td>17787063122</td>\n",
       "      <td>2019-09-18 22:02:42</td>\n",
       "      <td>Facebook</td>\n",
       "      <td>IBD-SP</td>\n",
       "    </tr>\n",
       "    <tr>\n",
       "      <th>14</th>\n",
       "      <td>VR</td>\n",
       "      <td>34646193892</td>\n",
       "      <td>2019-09-18 22:02:42</td>\n",
       "      <td>IBD-MG</td>\n",
       "      <td>Oculus VR</td>\n",
       "    </tr>\n",
       "    <tr>\n",
       "      <th>15</th>\n",
       "      <td>VR</td>\n",
       "      <td>44434353608</td>\n",
       "      <td>2019-09-18 22:02:42</td>\n",
       "      <td>IBD-MG</td>\n",
       "      <td>Oculus VR</td>\n",
       "    </tr>\n",
       "  </tbody>\n",
       "</table>\n",
       "</div>"
      ],
      "text/plain": [
       "       SIGLA          CPF           DATAVIAGEM    ORIGEM    DESTINO\n",
       "0        NMT  44434353608  2019-08-11 22:02:41    IBD-SP      Baidu\n",
       "1       Spam  71960563530  2019-08-14 22:02:41    Google     IBD-MG\n",
       "2     RecSys  29762035631  2019-08-18 22:02:41    IBD-MG      iFood\n",
       "3         VR  34646193892  2019-08-22 22:02:41    OpenAI     IBD-SP\n",
       "4        Pay  17787063122  2019-08-22 22:02:41     iFood     IBD-SP\n",
       "5   WhatsApp  31266012516  2019-08-24 22:02:41    IBD-SP   Facebook\n",
       "6        NMT  44434353608  2019-08-29 22:02:41     Baidu     IBD-SP\n",
       "7        NMT  34646193892  2019-08-29 22:02:41     Baidu     IBD-SP\n",
       "8      Fraud  71960563530  2019-08-31 22:02:41    IBD-SP     Nubank\n",
       "9       Spam  44434353608  2019-09-05 22:02:41    IBD-PR     Google\n",
       "10       Pay  17787063122  2019-09-05 22:02:42     iFood     IBD-MG\n",
       "11    RecSys   3074973994  2019-09-10 22:02:42     iFood     IBD-MG\n",
       "12    RecSys  62465487841  2019-09-11 22:02:42    IBD-MG      iFood\n",
       "13  WhatsApp  17787063122  2019-09-18 22:02:42  Facebook     IBD-SP\n",
       "14        VR  34646193892  2019-09-18 22:02:42    IBD-MG  Oculus VR\n",
       "15        VR  44434353608  2019-09-18 22:02:42    IBD-MG  Oculus VR"
      ]
     },
     "execution_count": 131,
     "metadata": {},
     "output_type": "execute_result"
    }
   ],
   "source": [
    "viagem"
   ]
  },
  {
   "cell_type": "code",
   "execution_count": 133,
   "metadata": {},
   "outputs": [
    {
     "data": {
      "text/html": [
       "<div>\n",
       "<style scoped>\n",
       "    .dataframe tbody tr th:only-of-type {\n",
       "        vertical-align: middle;\n",
       "    }\n",
       "\n",
       "    .dataframe tbody tr th {\n",
       "        vertical-align: top;\n",
       "    }\n",
       "\n",
       "    .dataframe thead th {\n",
       "        text-align: right;\n",
       "    }\n",
       "</style>\n",
       "<table border=\"1\" class=\"dataframe\">\n",
       "  <thead>\n",
       "    <tr style=\"text-align: right;\">\n",
       "      <th></th>\n",
       "      <th>CPF</th>\n",
       "      <th>NOMECON</th>\n",
       "      <th>DATANASCCON</th>\n",
       "      <th>UFNASCCON</th>\n",
       "    </tr>\n",
       "  </thead>\n",
       "  <tbody>\n",
       "    <tr>\n",
       "      <th>0</th>\n",
       "      <td>13414263351</td>\n",
       "      <td>Samuel Araujo Azevedo</td>\n",
       "      <td>1990-09-25 22:02:39</td>\n",
       "      <td>PR</td>\n",
       "    </tr>\n",
       "    <tr>\n",
       "      <th>1</th>\n",
       "      <td>71960563530</td>\n",
       "      <td>Diogo Cavalcanti Rocha</td>\n",
       "      <td>1991-09-25 22:02:39</td>\n",
       "      <td>PB</td>\n",
       "    </tr>\n",
       "    <tr>\n",
       "      <th>2</th>\n",
       "      <td>44434353608</td>\n",
       "      <td>Melissa Carvalho Cunha</td>\n",
       "      <td>1994-09-25 22:02:39</td>\n",
       "      <td>SP</td>\n",
       "    </tr>\n",
       "    <tr>\n",
       "      <th>3</th>\n",
       "      <td>62465487841</td>\n",
       "      <td>Lucas Fernandes Costa</td>\n",
       "      <td>1998-09-25 22:02:39</td>\n",
       "      <td>SP</td>\n",
       "    </tr>\n",
       "    <tr>\n",
       "      <th>4</th>\n",
       "      <td>3074973994</td>\n",
       "      <td>Julieta Maciel Sousa</td>\n",
       "      <td>1984-09-25 22:02:39</td>\n",
       "      <td>RJ</td>\n",
       "    </tr>\n",
       "    <tr>\n",
       "      <th>5</th>\n",
       "      <td>29762035631</td>\n",
       "      <td>Caio Dias Ribeiro</td>\n",
       "      <td>1997-09-25 22:02:39</td>\n",
       "      <td>MG</td>\n",
       "    </tr>\n",
       "    <tr>\n",
       "      <th>6</th>\n",
       "      <td>34646193892</td>\n",
       "      <td>Rodrigo Araujo Cardoso</td>\n",
       "      <td>2000-09-25 22:02:39</td>\n",
       "      <td>SP</td>\n",
       "    </tr>\n",
       "    <tr>\n",
       "      <th>7</th>\n",
       "      <td>17787063122</td>\n",
       "      <td>Larissa Fernandes Araujo</td>\n",
       "      <td>1977-09-25 22:02:39</td>\n",
       "      <td>MG</td>\n",
       "    </tr>\n",
       "    <tr>\n",
       "      <th>8</th>\n",
       "      <td>31266012516</td>\n",
       "      <td>Leonor Goncalves Rocha</td>\n",
       "      <td>1979-09-25 22:02:39</td>\n",
       "      <td>MG</td>\n",
       "    </tr>\n",
       "    <tr>\n",
       "      <th>9</th>\n",
       "      <td>85726311353</td>\n",
       "      <td>Brenda Oliveira Goncalves</td>\n",
       "      <td>1981-09-25 22:02:39</td>\n",
       "      <td>TO</td>\n",
       "    </tr>\n",
       "  </tbody>\n",
       "</table>\n",
       "</div>"
      ],
      "text/plain": [
       "           CPF                    NOMECON          DATANASCCON UFNASCCON\n",
       "0  13414263351      Samuel Araujo Azevedo  1990-09-25 22:02:39        PR\n",
       "1  71960563530     Diogo Cavalcanti Rocha  1991-09-25 22:02:39        PB\n",
       "2  44434353608     Melissa Carvalho Cunha  1994-09-25 22:02:39        SP\n",
       "3  62465487841      Lucas Fernandes Costa  1998-09-25 22:02:39        SP\n",
       "4   3074973994       Julieta Maciel Sousa  1984-09-25 22:02:39        RJ\n",
       "5  29762035631          Caio Dias Ribeiro  1997-09-25 22:02:39        MG\n",
       "6  34646193892     Rodrigo Araujo Cardoso  2000-09-25 22:02:39        SP\n",
       "7  17787063122   Larissa Fernandes Araujo  1977-09-25 22:02:39        MG\n",
       "8  31266012516     Leonor Goncalves Rocha  1979-09-25 22:02:39        MG\n",
       "9  85726311353  Brenda Oliveira Goncalves  1981-09-25 22:02:39        TO"
      ]
     },
     "execution_count": 133,
     "metadata": {},
     "output_type": "execute_result"
    }
   ],
   "source": [
    "consultor"
   ]
  },
  {
   "cell_type": "code",
   "execution_count": 132,
   "metadata": {},
   "outputs": [
    {
     "data": {
      "text/html": [
       "<div>\n",
       "<style scoped>\n",
       "    .dataframe tbody tr th:only-of-type {\n",
       "        vertical-align: middle;\n",
       "    }\n",
       "\n",
       "    .dataframe tbody tr th {\n",
       "        vertical-align: top;\n",
       "    }\n",
       "\n",
       "    .dataframe thead th {\n",
       "        text-align: right;\n",
       "    }\n",
       "</style>\n",
       "<table border=\"1\" class=\"dataframe\">\n",
       "  <thead>\n",
       "    <tr style=\"text-align: right;\">\n",
       "      <th></th>\n",
       "      <th>SIGLA</th>\n",
       "      <th>CPF</th>\n",
       "    </tr>\n",
       "  </thead>\n",
       "  <tbody>\n",
       "    <tr>\n",
       "      <th>0</th>\n",
       "      <td>NMT</td>\n",
       "      <td>44434353608</td>\n",
       "    </tr>\n",
       "    <tr>\n",
       "      <th>1</th>\n",
       "      <td>Fraud</td>\n",
       "      <td>44434353608</td>\n",
       "    </tr>\n",
       "    <tr>\n",
       "      <th>2</th>\n",
       "      <td>Fraud</td>\n",
       "      <td>71960563530</td>\n",
       "    </tr>\n",
       "    <tr>\n",
       "      <th>3</th>\n",
       "      <td>Spam</td>\n",
       "      <td>44434353608</td>\n",
       "    </tr>\n",
       "    <tr>\n",
       "      <th>4</th>\n",
       "      <td>Spam</td>\n",
       "      <td>71960563530</td>\n",
       "    </tr>\n",
       "    <tr>\n",
       "      <th>5</th>\n",
       "      <td>RecSys</td>\n",
       "      <td>29762035631</td>\n",
       "    </tr>\n",
       "    <tr>\n",
       "      <th>6</th>\n",
       "      <td>RecSys</td>\n",
       "      <td>3074973994</td>\n",
       "    </tr>\n",
       "    <tr>\n",
       "      <th>7</th>\n",
       "      <td>RecSys</td>\n",
       "      <td>62465487841</td>\n",
       "    </tr>\n",
       "    <tr>\n",
       "      <th>8</th>\n",
       "      <td>WhatsApp</td>\n",
       "      <td>17787063122</td>\n",
       "    </tr>\n",
       "    <tr>\n",
       "      <th>9</th>\n",
       "      <td>WhatsApp</td>\n",
       "      <td>31266012516</td>\n",
       "    </tr>\n",
       "    <tr>\n",
       "      <th>10</th>\n",
       "      <td>Pay</td>\n",
       "      <td>17787063122</td>\n",
       "    </tr>\n",
       "    <tr>\n",
       "      <th>11</th>\n",
       "      <td>Pay</td>\n",
       "      <td>31266012516</td>\n",
       "    </tr>\n",
       "    <tr>\n",
       "      <th>12</th>\n",
       "      <td>VR</td>\n",
       "      <td>34646193892</td>\n",
       "    </tr>\n",
       "  </tbody>\n",
       "</table>\n",
       "</div>"
      ],
      "text/plain": [
       "       SIGLA          CPF\n",
       "0        NMT  44434353608\n",
       "1      Fraud  44434353608\n",
       "2      Fraud  71960563530\n",
       "3       Spam  44434353608\n",
       "4       Spam  71960563530\n",
       "5     RecSys  29762035631\n",
       "6     RecSys   3074973994\n",
       "7     RecSys  62465487841\n",
       "8   WhatsApp  17787063122\n",
       "9   WhatsApp  31266012516\n",
       "10       Pay  17787063122\n",
       "11       Pay  31266012516\n",
       "12        VR  34646193892"
      ]
     },
     "execution_count": 132,
     "metadata": {},
     "output_type": "execute_result"
    }
   ],
   "source": [
    "equipe"
   ]
  },
  {
   "cell_type": "markdown",
   "metadata": {
    "colab_type": "text",
    "id": "oixXoT4tXVBQ"
   },
   "source": [
    "### 10. Que consultores (CPF e nome) não estão em nenhuma equipe de projeto que tenha iniciado em 2019?\n"
   ]
  },
  {
   "cell_type": "code",
   "execution_count": 118,
   "metadata": {
    "colab": {},
    "colab_type": "code",
    "id": "iyXKmzHCf9n_"
   },
   "outputs": [
    {
     "data": {
      "text/html": [
       "<div>\n",
       "<style scoped>\n",
       "    .dataframe tbody tr th:only-of-type {\n",
       "        vertical-align: middle;\n",
       "    }\n",
       "\n",
       "    .dataframe tbody tr th {\n",
       "        vertical-align: top;\n",
       "    }\n",
       "\n",
       "    .dataframe thead th {\n",
       "        text-align: right;\n",
       "    }\n",
       "</style>\n",
       "<table border=\"1\" class=\"dataframe\">\n",
       "  <thead>\n",
       "    <tr style=\"text-align: right;\">\n",
       "      <th></th>\n",
       "      <th>CPF</th>\n",
       "      <th>NOMECON</th>\n",
       "    </tr>\n",
       "  </thead>\n",
       "  <tbody>\n",
       "    <tr>\n",
       "      <th>0</th>\n",
       "      <td>13414263351</td>\n",
       "      <td>Samuel Araujo Azevedo</td>\n",
       "    </tr>\n",
       "    <tr>\n",
       "      <th>1</th>\n",
       "      <td>71960563530</td>\n",
       "      <td>Diogo Cavalcanti Rocha</td>\n",
       "    </tr>\n",
       "    <tr>\n",
       "      <th>2</th>\n",
       "      <td>85726311353</td>\n",
       "      <td>Brenda Oliveira Goncalves</td>\n",
       "    </tr>\n",
       "  </tbody>\n",
       "</table>\n",
       "</div>"
      ],
      "text/plain": [
       "           CPF                    NOMECON\n",
       "0  13414263351      Samuel Araujo Azevedo\n",
       "1  71960563530     Diogo Cavalcanti Rocha\n",
       "2  85726311353  Brenda Oliveira Goncalves"
      ]
     },
     "execution_count": 118,
     "metadata": {},
     "output_type": "execute_result"
    }
   ],
   "source": [
    "df = pd.read_sql_query(\"SELECT C.CPF, C.NomeCon\"\n",
    "                       + \" FROM Consultor C\"\n",
    "                       + \" WHERE C.CPF EXCEPT\"\n",
    "                       + \" SELECT DISTINCT CPF, NomeCon\"\n",
    "                       + \" FROM Consultor\"\n",
    "                       + \" INNER NATURAL JOIN Equipe E\"\n",
    "                       + \" INNER NATURAL JOIN Projeto P\"\n",
    "                       + \" WHERE P.DataInicio >= 2019 AND P.DataInicio < 2020\"\n",
    "                       \n",
    "                       , conn)\n",
    "df"
   ]
  },
  {
   "cell_type": "code",
   "execution_count": null,
   "metadata": {},
   "outputs": [],
   "source": []
  }
 ],
 "metadata": {
  "colab": {
   "collapsed_sections": [],
   "include_colab_link": true,
   "name": "Exercícios 2.ipynb",
   "provenance": [],
   "toc_visible": true
  },
  "kernelspec": {
   "display_name": "Python 3",
   "language": "python",
   "name": "python3"
  },
  "language_info": {
   "codemirror_mode": {
    "name": "ipython",
    "version": 3
   },
   "file_extension": ".py",
   "mimetype": "text/x-python",
   "name": "python",
   "nbconvert_exporter": "python",
   "pygments_lexer": "ipython3",
   "version": "3.5.2"
  }
 },
 "nbformat": 4,
 "nbformat_minor": 1
}
